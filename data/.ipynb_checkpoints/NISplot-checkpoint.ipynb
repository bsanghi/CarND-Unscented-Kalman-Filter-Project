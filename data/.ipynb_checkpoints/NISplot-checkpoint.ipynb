{
 "cells": [
  {
   "cell_type": "code",
   "execution_count": 1,
   "metadata": {
    "collapsed": true
   },
   "outputs": [],
   "source": [
    "import numpy as np\n",
    "import matplotlib\n",
    "import matplotlib.pyplot as plt\n",
    "\n",
    "dataRadar = np.loadtxt( \"vals_radar.txt\", usecols=[0], skiprows=1 )\n",
    "dataLaser = np.loadtxt( \"vals_laser.txt\", usecols=[0], skiprows=1 )\n",
    "\n",
    "nisRadar = np.transpose(dataRadar)\n",
    "nisLaser = np.transpose(dataLaser)\n",
    "nis = [nisRadar, nisLaser]\n"
   ]
  },
  {
   "cell_type": "code",
   "execution_count": 2,
   "metadata": {},
   "outputs": [],
   "source": [
    "confidence95Radar=np.percentile(dataRadar,95)\n",
    "confidence95Laser=np.percentile(dataLaser,95)\n",
    "confidences = np.array([confidence95Radar, confidence95Laser])\n",
    "#print(confidence95Laser,confidence95Radar)"
   ]
  },
  {
   "cell_type": "code",
   "execution_count": 3,
   "metadata": {},
   "outputs": [
    {
     "data": {
      "text/plain": [
       "<matplotlib.text.Text at 0x7fc56ad9a080>"
      ]
     },
     "execution_count": 3,
     "metadata": {},
     "output_type": "execute_result"
    }
   ],
   "source": [
    "fig = plt.figure(figsize=(16,8))\n",
    "axes = []\n",
    "\n",
    "id = 1\n",
    "for data, confidence in zip(nis, confidences):\n",
    "    subplot = 120 + id\n",
    "    ax = fig.add_subplot(subplot)\n",
    "    axes.append( ax )\n",
    "    ax.tick_params(which='both',direction='in')\n",
    "    ax.set_xlabel( 'Measurement', labelpad=10 )\n",
    "    ax.plot( np.arange(0,len(data))\n",
    "        , data\n",
    "        , 'r-'\n",
    "        , label='NIS' )\n",
    "    ax.axhline( y=confidence\n",
    "        , color='b'\n",
    "        , linestyle='-'\n",
    "        , label='95% confidence threshold' )\n",
    "    ax.legend( prop={'size':20} )\n",
    "    id += 1\n",
    "\n",
    "axes[0].set_title('Radar', fontsize=20)\n",
    "axes[1].set_title('Lidar', fontsize=20)"
   ]
  },
  {
   "cell_type": "code",
   "execution_count": 4,
   "metadata": {},
   "outputs": [],
   "source": [
    "plt.savefig( \"NIS.png\", bbox_inches = 'tight', dpi = 300 )\n"
   ]
  },
  {
   "cell_type": "code",
   "execution_count": null,
   "metadata": {
    "collapsed": true
   },
   "outputs": [],
   "source": []
  }
 ],
 "metadata": {
  "kernelspec": {
   "display_name": "Python 3",
   "language": "python",
   "name": "python3"
  },
  "language_info": {
   "codemirror_mode": {
    "name": "ipython",
    "version": 3
   },
   "file_extension": ".py",
   "mimetype": "text/x-python",
   "name": "python",
   "nbconvert_exporter": "python",
   "pygments_lexer": "ipython3",
   "version": "3.6.1"
  }
 },
 "nbformat": 4,
 "nbformat_minor": 2
}
